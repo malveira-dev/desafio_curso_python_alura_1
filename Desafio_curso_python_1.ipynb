{
  "nbformat": 4,
  "nbformat_minor": 0,
  "metadata": {
    "colab": {
      "provenance": [],
      "authorship_tag": "ABX9TyPav1xOjD18AcbJXwmmhGxr",
      "include_colab_link": true
    },
    "kernelspec": {
      "name": "python3",
      "display_name": "Python 3"
    },
    "language_info": {
      "name": "python"
    }
  },
  "cells": [
    {
      "cell_type": "markdown",
      "metadata": {
        "id": "view-in-github",
        "colab_type": "text"
      },
      "source": [
        "<a href=\"https://colab.research.google.com/github/malveira-dev/desafio_curso_python_alura_1/blob/main/Desafio_curso_python_1.ipynb\" target=\"_parent\"><img src=\"https://colab.research.google.com/assets/colab-badge.svg\" alt=\"Open In Colab\"/></a>"
      ]
    },
    {
      "cell_type": "markdown",
      "source": [
        "#DESAFIO:\n",
        "1. Criar um arquivo .txt a partir de uma lista de perguntas vindas de uma lista em Python\n",
        "2. Ler essas perguntas do arquivo .txt e salva-las em uma lista Python\n",
        "3. Obter respostas de um LLM para cada uma\n",
        "4. Salvar os resultados em um novo arquivo .txt\n",
        "5. Ler o arquivo .txt"
      ],
      "metadata": {
        "id": "mQ-6QC9u-jWb"
      }
    },
    {
      "cell_type": "code",
      "source": [
        "# ETAPA 1\n",
        "\n",
        "#Perguntas\n",
        "lista_de_perguntas = [\n",
        "    \"Qual clube brasileiro revelou o jogador Neymar Jr.?\",\n",
        "      \"Quem é o maior artilheiro da história do Campeonato Brasileiro de pontos corridos?\",\n",
        "      \"Quantas vezes a Seleção Brasileira masculina de futebol venceu a Copa do Mundo?\",\n",
        "      \"Qual o apelido do estádio Jornalista Mário Filho, localizado no Rio de Janeiro?\",\n",
        "      \"Que time brasileiro foi o primeiro a conquistar o Mundial de Clubes da FIFA?\",\n",
        "      \"Quem foi o técnico da Seleção Brasileira na conquista do pentacampeonato em 2002?\",\n",
        "      \"Qual jogador é conhecido como 'O Fenômeno'?\",\n",
        "      \"Qual é o maior rival do Grêmio no estado do Rio Grande do Sul?\",\n",
        "      \"Em que ano o Brasil sediou a Copa do Mundo pela última vez?\",\n",
        "      \"Qual clube é o maior campeão da história da Copa do Brasil?\"\n",
        "]\n",
        "\n",
        "#Função para gerar o arquivo com as perguntas\n",
        "with open(\"perguntas.txt\", \"w\", encoding=\"utf-8\") as arquivo:\n",
        "  for pergunta in lista_de_perguntas:\n",
        "      arquivo.write(pergunta + \"\\n\")"
      ],
      "metadata": {
        "id": "Eq8uU-olIvAO"
      },
      "execution_count": 39,
      "outputs": []
    },
    {
      "cell_type": "code",
      "source": [
        "# ETAPA 2\n",
        "\n",
        "#Função para ler o arquivo de perguntas\n",
        "lista_desafio= []\n",
        "\n",
        "with open(\"perguntas.txt\", \"r\", encoding=\"utf-8\") as arquivo:\n",
        "  for linha in arquivo:\n",
        "    lista_desafio.append(linha.strip())\n",
        "\n",
        "print(lista_desafio)"
      ],
      "metadata": {
        "colab": {
          "base_uri": "https://localhost:8080/"
        },
        "id": "ZU1VnD4SJOR1",
        "outputId": "a80a979d-7582-495e-ba8a-a8d0766183e5"
      },
      "execution_count": 40,
      "outputs": [
        {
          "output_type": "stream",
          "name": "stdout",
          "text": [
            "['Qual clube brasileiro revelou o jogador Neymar Jr.?', 'Quem é o maior artilheiro da história do Campeonato Brasileiro de pontos corridos?', 'Quantas vezes a Seleção Brasileira masculina de futebol venceu a Copa do Mundo?', 'Qual o apelido do estádio Jornalista Mário Filho, localizado no Rio de Janeiro?', 'Que time brasileiro foi o primeiro a conquistar o Mundial de Clubes da FIFA?', 'Quem foi o técnico da Seleção Brasileira na conquista do pentacampeonato em 2002?', \"Qual jogador é conhecido como 'O Fenômeno'?\", 'Qual é o maior rival do Grêmio no estado do Rio Grande do Sul?', 'Em que ano o Brasil sediou a Copa do Mundo pela última vez?', 'Qual clube é o maior campeão da história da Copa do Brasil?']\n"
          ]
        }
      ]
    },
    {
      "cell_type": "code",
      "source": [
        "# ETAPA 3\n",
        "\n",
        "#Importando o Google Gemini\n",
        "\n",
        "import os\n",
        "from google.colab import userdata\n",
        "\n",
        "os.environ[\"GOOGLE_API_KEY\"] = userdata.get('GEMINI_API_KEY')\n",
        "\n",
        "from google import genai\n",
        "\n",
        "client = genai.Client()"
      ],
      "metadata": {
        "id": "2OvVwDUYKKb2"
      },
      "execution_count": 41,
      "outputs": []
    },
    {
      "cell_type": "code",
      "source": [
        "#Criando a função para IA responder as perguntas\n",
        "def respostas_perguntas(perguntas):\n",
        "  lista_de_respostas = []\n",
        "\n",
        "  for numero, pergunta in enumerate(perguntas):\n",
        "    resposta = client.models.generate_content(\n",
        "        model=\"gemini-2.5-flash\",\n",
        "        contents=(f\"Gere uma resposta resnumida para a pergunta: {pergunta}\")\n",
        "        )\n",
        "    print(f\"Pergunta {numero + 1}: {resposta.text}\")\n",
        "    lista_de_respostas.append(f\"Pergunta {numero + 1}: {resposta.text}\")\n",
        "    print(\"-\" * 50)\n",
        "\n",
        "  return lista_de_respostas\n"
      ],
      "metadata": {
        "id": "PGntY3vnKZ0k"
      },
      "execution_count": 42,
      "outputs": []
    },
    {
      "cell_type": "code",
      "source": [
        "resposta_final = respostas_perguntas(lista_de_perguntas)"
      ],
      "metadata": {
        "colab": {
          "base_uri": "https://localhost:8080/"
        },
        "outputId": "64a274c5-f149-4db5-ca7b-197866f4005b",
        "id": "EHoRPVU-KpK_"
      },
      "execution_count": 43,
      "outputs": [
        {
          "output_type": "stream",
          "name": "stdout",
          "text": [
            "Pergunta 1: O Santos Futebol Clube.\n",
            "--------------------------------------------------\n",
            "Pergunta 2: O maior artilheiro da história do Campeonato Brasileiro de pontos corridos é **Fred**, com **158 gols**.\n",
            "--------------------------------------------------\n",
            "Pergunta 3: Cinco vezes.\n",
            "--------------------------------------------------\n",
            "Pergunta 4: Maracanã.\n",
            "--------------------------------------------------\n",
            "Pergunta 5: O Corinthians, em 2000.\n",
            "--------------------------------------------------\n",
            "Pergunta 6: Luiz Felipe Scolari.\n",
            "--------------------------------------------------\n",
            "Pergunta 7: Ronaldo (Ronaldo Luís Nazário de Lima).\n",
            "--------------------------------------------------\n",
            "Pergunta 8: O maior rival do Grêmio no estado do Rio Grande do Sul é o **Sport Club Internacional (Inter)**, no clássico conhecido como **Grenal**.\n",
            "--------------------------------------------------\n",
            "Pergunta 9: 2014.\n",
            "--------------------------------------------------\n",
            "Pergunta 10: O Cruzeiro, com 6 títulos.\n",
            "--------------------------------------------------\n"
          ]
        }
      ]
    },
    {
      "cell_type": "code",
      "source": [
        "# ETAPA 4\n",
        "\n",
        "#Função  para escrever o arquivo com as respostas\n",
        "with open(\"lista-de-respostas.txt\", \"w\", encoding=\"utf-8\") as arquivo:\n",
        "  for respostas_final in resposta_final:\n",
        "      arquivo.write(respostas_final + \"\\n\")         voc"
      ],
      "metadata": {
        "id": "LKcwxAYbK1De"
      },
      "execution_count": 47,
      "outputs": []
    },
    {
      "cell_type": "code",
      "source": [
        "# ETAPA 5\n",
        "\n",
        "#Função para ler o arquivo com as respostas\n",
        "nova_lista_de_respostas = []\n",
        "\n",
        "with open(\"lista-de-respostas.txt\", \"r\", encoding=\"utf-8\") as arquivo:\n",
        "  for respostas in arquivo:\n",
        "    nova_lista_de_respostas.append(respostas.strip())"
      ],
      "metadata": {
        "id": "NHMmJHo4K1qM"
      },
      "execution_count": 48,
      "outputs": []
    },
    {
      "cell_type": "code",
      "source": [
        "nova_lista_de_respostas"
      ],
      "metadata": {
        "colab": {
          "base_uri": "https://localhost:8080/"
        },
        "outputId": "5fcfac02-621a-4d84-f291-229f9dab9185",
        "id": "HJfWMzDuK9h3"
      },
      "execution_count": 49,
      "outputs": [
        {
          "output_type": "execute_result",
          "data": {
            "text/plain": [
              "['Pergunta 1: O Santos Futebol Clube.',\n",
              " 'Pergunta 2: O maior artilheiro da história do Campeonato Brasileiro de pontos corridos é **Fred**, com **158 gols**.',\n",
              " 'Pergunta 3: Cinco vezes.',\n",
              " 'Pergunta 4: Maracanã.',\n",
              " 'Pergunta 5: O Corinthians, em 2000.',\n",
              " 'Pergunta 6: Luiz Felipe Scolari.',\n",
              " 'Pergunta 7: Ronaldo (Ronaldo Luís Nazário de Lima).',\n",
              " 'Pergunta 8: O maior rival do Grêmio no estado do Rio Grande do Sul é o **Sport Club Internacional (Inter)**, no clássico conhecido como **Grenal**.',\n",
              " 'Pergunta 9: 2014.',\n",
              " 'Pergunta 10: O Cruzeiro, com 6 títulos.']"
            ]
          },
          "metadata": {},
          "execution_count": 49
        }
      ]
    }
  ]
}